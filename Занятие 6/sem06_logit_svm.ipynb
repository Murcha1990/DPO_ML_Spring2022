{
  "cells": [
    {
      "cell_type": "markdown",
      "id": "nearby-anderson",
      "metadata": {
        "id": "nearby-anderson"
      },
      "source": [
        "## Семинар 6\n",
        "\n",
        "## Логистическая регрессия и SVM\n",
        "\n",
        "#### План:\n",
        "1. Логистическая регрессия\n",
        "2. SVM.\n",
        "3. Ирисы Фишера. Свойства логистической регрессии и SVM\n",
        "4. Логистическая регрессия и SVM на менее приятных данных.\n",
        "5. ROC-кривая. \n",
        "6. Бонус: вывод логистической регрессии через правдоподобие\n",
        "---"
      ]
    },
    {
      "cell_type": "markdown",
      "id": "intellectual-territory",
      "metadata": {
        "id": "intellectual-territory"
      },
      "source": [
        "### Логистическая регрессия"
      ]
    },
    {
      "cell_type": "markdown",
      "id": "russian-closing",
      "metadata": {
        "id": "russian-closing"
      },
      "source": [
        "Напомним, что мы по-прежнему решаем задачу бинарной классификации, в которой целевая переменная $y$ принимает два значения: -1 и 1. На прошлом семинаре мы обсудили, что эту задачу можно решить при помощи линейного классификатора \n",
        "\n",
        "$$\n",
        "f(x_i, w) = \\mathrm{sign}\\left(\\langle x_i, w \\rangle\\right).\n",
        "$$\n",
        "\n",
        "Функция потерь для такой задачи – это сумма индикаторов того, что предсказание сделано неверно: \n",
        "\n",
        "$$Q(X, w) = \\frac{1}{\\ell}\\sum_{i = 1}^{\\ell}[y_i \\ne \\mathrm{sign}\\left(\\langle x_i, w \\rangle\\right)].$$\n",
        "\n",
        "На лекциях мы обсуждали, что эту идею можно удобно записать через функцию отступа:\n",
        "\n",
        "$$\n",
        "Q(X, w) = \\frac{1}{\\ell}\\sum_{i = 1}^{\\ell}[y_i \\langle x_i, w \\rangle < 0].\n",
        "$$\n",
        "\n",
        "Такую функцию проблематично дифференцировать по $w$, потому что даже в местах, где градиент существует, он равен нулю. Вместо этого будем минимизировать некоторую функцию $\\tilde{Q}(X, w)$, являющуюся верхней оценкой для $Q(X, w)$, и надеяться, что минимизация $\\tilde{Q}(X, w)$ позволит достаточно хорошо минимизировать и $Q(X, w)$.\n",
        "\n",
        "Логистическая регрессия предлагает использовать логистическую функцию потерь:\n",
        "\n",
        "$$\n",
        "\\tilde{Q}(X, w) = \\frac{1}{\\ell}\\sum_{i = 1}^{\\ell}\\log(1 + e^{-y_i \\langle x_i, w \\rangle}) \\rightarrow \\min_w.\n",
        "$$"
      ]
    },
    {
      "cell_type": "code",
      "execution_count": null,
      "id": "curious-exemption",
      "metadata": {
        "id": "curious-exemption"
      },
      "outputs": [],
      "source": [
        "import matplotlib.pyplot as plt\n",
        "import numpy as np\n",
        "import pandas as pd"
      ]
    },
    {
      "cell_type": "code",
      "execution_count": null,
      "id": "catholic-tunnel",
      "metadata": {
        "colab": {
          "base_uri": "https://localhost:8080/",
          "height": 374
        },
        "id": "catholic-tunnel",
        "outputId": "df321063-caeb-4e4e-dfd2-50f1f760d2fa"
      },
      "outputs": [
        {
          "output_type": "display_data",
          "data": {
            "text/plain": [
              "<Figure size 576x432 with 1 Axes>"
            ],
            "image/png": "[encoded data removed]"
          },
          "metadata": {
            "needs_background": "light"
          }
        }
      ],
      "source": [
        "x = np.concatenate((np.linspace(-3, 0, 500), np.linspace(0, 3, 500)))\n",
        "np.random.seed(123)\n",
        "y = np.ones(1000)\n",
        "w = np.ones(1000)\n",
        "M = y * x * w\n",
        "\n",
        "plt.figure(figsize = (8, 6))\n",
        "plt.plot(x * w, x < 0, label = \"$\\tilde{Q}(X, w)$, zero-one loss\")\n",
        "plt.plot(M, np.log2(1 + np.exp(-M)), label = \"$Q'(X, w)$, logistic loss\")\n",
        "plt.grid()\n",
        "plt.legend();"
      ]
    },
    {
      "cell_type": "markdown",
      "id": "positive-memorabilia",
      "metadata": {
        "id": "positive-memorabilia"
      },
      "source": [
        "Для получения классической задачи логистической регрессии остаётся сделать один шаг и немного изменить постановку задачи. Предположим, что мы хотим решать задачу **мягкой** классификации, то есть предсказывать не метку класса, а вероятность того, что наблюдение принадлежит к классу. Понятно, что мы всегда можем перейти от мягкой классификации к жёсткой, выбрав порог принадлежности к положительному классу. "
      ]
    },
    {
      "cell_type": "markdown",
      "id": "useful-springer",
      "metadata": {
        "id": "useful-springer"
      },
      "source": [
        "**Задание 1.** Поясните, почему для решения задачи мягкой классификации классификатор $f(x_i, w) = \\left(\\langle x_i, w \\rangle\\right)$ – не лучший выбор. "
      ]
    },
    {
      "cell_type": "markdown",
      "id": "contained-preparation",
      "metadata": {
        "id": "contained-preparation"
      },
      "source": [
        "**Ответ:**\n",
        "\n",
        "Полученное скалярное произведение необязательно будет лежать в отрезке $[0, 1]$.\n",
        "\n",
        "Мы можем решить названную проблему, подставив $\\left(\\langle x_i, w \\rangle\\right)$ в некоторую функцию, областью значений которой является промежуток от 0 до 1. В логистической регрессии такой функцией выступает **сигмоида**:\n",
        "\n",
        "$$\n",
        "\\sigma(x) = \\dfrac{e^x}{1 + e^x} = \\dfrac{1}{1 + e^{-x}}.\n",
        "$$"
      ]
    },
    {
      "cell_type": "markdown",
      "id": "romantic-yield",
      "metadata": {
        "id": "romantic-yield"
      },
      "source": [
        "**Задание 2.** Сигмоида обаладет замечательнеым свойством, которое значительно упрощает вычисление градиентов при градиентном спуске:\n",
        "\n",
        "$$\n",
        "\\sigma(x)'_x = \\sigma(x)(1 - \\sigma(x)). \n",
        "$$\n",
        "\n",
        "Покажите, что это действительно так.\n",
        "\n",
        "**Решение:**\n",
        "\n",
        "$$\n",
        "\\sigma(x)' = \\frac{e^x(1 + e^x) - e^{2x}}{(1 + e^x)^2} = \\frac{e^x}{1 + e^x}\\frac{1}{1 + e^x} = \\sigma(x)(1-\\sigma(x)).\n",
        "$$"
      ]
    },
    {
      "cell_type": "markdown",
      "id": "reverse-transsexual",
      "metadata": {
        "id": "reverse-transsexual"
      },
      "source": [
        "Путём хитрых математических преобразований можно показать, что при использовании сигмоиды (= при решении задачи мягкой классификации) $\\tilde{Q}(X, w)$ можно записать в следующем виде:\n",
        "\n",
        "$$\n",
        "\\tilde{Q}(X, w) = -\\frac{1}{\\ell} \\sum_{i=1}^{\\ell} [y_i = 1]\\log\\sigma(\\langle x_i, w \\rangle) + [y_i = -1]\\log(1-\\sigma(\\langle x_i, w \\rangle)\n",
        "$$\n",
        "\n",
        "Эта функция называется log-loss или кросс-энтропией между истинной целевой переменной и предсказанными вероятностями.\n",
        "\n",
        "**А почему? А потому:**\n",
        "\n",
        "$$\n",
        "\\tilde{Q}(X, w) = -\\frac{1}{\\ell} \\sum_{i=1}^{\\ell} [y_i = 1]\\log\\sigma(\\langle x_i, w \\rangle) + [y_i = -1]\\log(1-\\sigma(\\langle x_i, w \\rangle) =\\\\\n",
        "$$\n",
        "$$\n",
        "=-\\frac{1}{\\ell} \\sum_{i=1}^{\\ell} [y_i = 1]\\log\\left(\\frac{1}{1 + e^{-\\langle x_i, w\\rangle}}\\right) + [y_i = -1](\\log\\left(1-\\frac{1}{1 + e^{-\\langle x_i, w\\rangle}}\\right)) =\\\\\n",
        "$$\n",
        "$$\n",
        "=-\\frac{1}{\\ell} \\sum_{i=1}^{\\ell} [y_i = 1]\\log\\left(\\frac{1}{1 + e^{-\\langle x_i, w\\rangle}}\\right) + [y_i = -1](\\log\\left(\\frac{1}{1 + e^{\\langle x_i, w\\rangle}}\\right)) =\\\\\n",
        "$$\n",
        "$$\n",
        "=\\frac{1}{\\ell} \\sum_{i=1}^{\\ell} [y_i = 1]\\log(1 + e^{-\\langle x_i, w \\rangle}) + [y_i = -1]\\log(1 + e^{\\langle x_i, w \\rangle}) =\\\\\n",
        "$$\n",
        "$$\n",
        "=\\frac{1}{\\ell} \\sum_{i=1}^{\\ell}\\log(1 + e^{-y_i\\langle x_i, w\\rangle}) = \\tilde{Q}(X, w)\n",
        "$$"
      ]
    },
    {
      "cell_type": "markdown",
      "id": "anticipated-amplifier",
      "metadata": {
        "id": "anticipated-amplifier"
      },
      "source": [
        "Регуляризация вводится таким же образом, как это было в случае линейной регрессии. Например, функция потерь для $\\ell$-$2$ регуляризации выглядит так:\n",
        "\n",
        "$$\n",
        "\\tilde{Q}_{reg}(X, w) = \\tilde{Q}(X, w) + \\frac{1}{2}\\lambda\\|w\\|^2_2.\n",
        "$$"
      ]
    },
    {
      "cell_type": "markdown",
      "id": "lovely-empire",
      "metadata": {
        "id": "lovely-empire"
      },
      "source": [
        "**Саммари по логистической регрессии:**\n",
        "\n",
        "- Данные: $y_i \\in \\{-1, 1\\}$, $X$\n",
        "\n",
        "- Предсказания:\n",
        "\n",
        "    - По умолчанию предсказывает вероятности:\n",
        "    $$\n",
        "    \\hat{p}_i = \\sigma(\\langle x_i, w\\rangle) = \\frac{1}{1 + e^{-\\langle x_i, w\\rangle}}\n",
        "    $$\n",
        "    \n",
        "    - Если хотим перейти к метке, то сравниваем вероятность с порогом $t$:\n",
        "    \n",
        "    $$\n",
        "    \\hat{y}_i = \\begin{cases}\n",
        "    1,&\\text{ если } \\hat{p}_i > t,\\\\\n",
        "    -1,&\\text{ иначе.}\n",
        "    \\end{cases}\n",
        "    $$\n",
        "    \n",
        "- Обучение: \n",
        "\n",
        "$$\n",
        "\\tilde{Q}(X, w) = -\\frac{1}{\\ell} \\sum_{i=1}^{\\ell} [y_i = 1]\\log\\sigma(\\langle x_i, w \\rangle) + [y_i = -1]\\log(1-\\sigma(\\langle x_i, w \\rangle) \\to \\min_w\n",
        "$$"
      ]
    },
    {
      "cell_type": "markdown",
      "id": "cubic-fifty",
      "metadata": {
        "id": "cubic-fifty"
      },
      "source": [
        "### Метод опорных векторов (SVM)"
      ]
    },
    {
      "cell_type": "markdown",
      "id": "separated-superintendent",
      "metadata": {
        "id": "separated-superintendent"
      },
      "source": [
        "Метод опорных векторов – математически строго обоснованный метод, идея которого состоит в максимизации ширины разделяющей полосы между классами. Так как для подробного вывода SVM требуется уверенное владение методами квадратичной оптимизации, мы разберём только идею и практическую реализацию метода. \n",
        "\n",
        "Мы по-прежнему решаем задачу бинарной классификации и используем классификатор $f(x_i, w) = \\mathrm{sign}(\\langle x_i, w\\rangle)$. Предположим, что мы работаем с линейно разделимой выборкой. Определим отступ как минимальное расстояние от точек выборки до разделяющей поверхности классификатора:\n",
        "$$\n",
        "\\rho(x_i, \\langle x, w\\rangle) =  \\min_i\\dfrac{|{\\langle x_i, w\\rangle|}}{\\|w\\|}\n",
        "$$\n",
        "\n",
        "Задача состоит в том, чтобы максимизировать этот отступ:\n",
        "\n",
        "$$\n",
        "\\rho(x_i, \\langle x, w\\rangle) =  \\min_i\\dfrac{|{\\langle x_i, w\\rangle|}}{\\|w\\|} \\to \\max_w.\n",
        "$$\n",
        "\n",
        "Воспользуемся картинкой из Википедии, чтобы лучше понять эту идею:\n",
        "\n",
        "[<img src=\"https://upload.wikimedia.org/wikipedia/commons/thumb/7/72/SVM_margin.png/1920px-SVM_margin.png\" alt=\"drawing\" width=\"400\"/>](https://en.wikipedia.org/wiki/Support-vector_machine#/media/File:SVM_margin.png)\n",
        "\n",
        "Заметим, что при делении весов на положительное число ответы классификатора не меняются (веса просто пропорционально прошкалируются). Поделим все веса на \n",
        "\n",
        "$$\\min_i |\\langle x_i, w\\rangle| > 0.$$ \n",
        "\n",
        "Тогда будет верно, что $\\min_i |\\langle x_i, w\\rangle| = 1$, а значит отступ можно переписать как\n",
        "\n",
        "$$\n",
        "\\rho(\\langle x_i, w\\rangle) = \\frac{1}{\\|w\\|}.\n",
        "$$\n",
        "\n",
        "Получаем задачу SVM в линейно-разделимом случае:\n",
        "\n",
        "$$\n",
        "\\begin{cases}\n",
        "\\|w\\|^2 \\to \\min_{w}, \\\\\n",
        "y_i(\\langle x_i, w\\rangle) \\ge 1, \\\\\n",
        "\\end{cases}\n",
        "$$\n",
        "\n",
        "Если выборка не является линейно-разделимой, то нам придётся позволить линейному классификатору допускать ошибки на некоторых наблюдениях. Тогда задача превращается в поиск оптимального выбора между максимизацией ширины разделяющей полосы и ошибок классификации:\n",
        "\n",
        "$$\n",
        "\\begin{cases}\n",
        "\\|w\\|^2 + C \\sum_{i = 1}^{\\ell} \\xi_i \\to \\min_{w, \\xi_i}, \\\\\n",
        "y_i(\\langle x_i, w\\rangle) \\ge 1 - \\xi_i, \\\\\n",
        "\\xi_i \\ge 0\n",
        "\\end{cases}\n",
        "$$\n",
        "\n",
        "$C$ – параметр, который позволяет регулировать пропорции этого выбора. Чем больше $C$, тем больше штраф за неверную классификацию.\n",
        "\n",
        "[<img src=\"https://miro.medium.com/max/1400/1*0vOVPBmYCkw-sUt77HtyGA.png\" alt=\"drawing\" width=\"800\"/>](https://towardsdatascience.com/support-vector-machine-simply-explained-fee28eba5496)\n",
        "\n",
        "Путём хитрых математических преобразований (объединив ограничения) можно показать, что итоговая функция потерь SVM выглядит следующим образом:\n",
        "\n",
        "$$\n",
        "Q(X, w) = C\\sum_{i=1}^{l} \\max\\{0, 1 - y_i(\\langle x_i, w\\rangle)\\} + \\|w\\|^2 \\to \\min_w\n",
        "$$"
      ]
    },
    {
      "cell_type": "markdown",
      "id": "technological-cooperation",
      "metadata": {
        "id": "technological-cooperation"
      },
      "source": [
        "### Ирисы Фишера. Свойства логистической регрессии и SVM"
      ]
    },
    {
      "cell_type": "markdown",
      "id": "anonymous-reporter",
      "metadata": {
        "id": "anonymous-reporter"
      },
      "source": [
        "Рассмотрим свойства логистической регрессии и метода опорных векторов на примере классического набора данных [\"Ирисы Фишера\"](https://ru.wikipedia.org/wiki/Ирисы_Фишера). Этот набор состоит из 150 наблюдений, каждое из которых представляет собой четыре измерения: длина наружной доли околоцветника (`sepal length`), ширина наружной доли околоцветника (`sepal width`), длина внутренней доли околоцветника (`petal length`), ширина внутренней доли околоцветника (`petal width`). Каждое наблюдение относится к одному из трёх классов ириса: `setosa`, `versicolor` или `virginica`. Задача состоит в том, чтобы по измерениям предсказать класс цветка. \n",
        "\n",
        "[<img src=\"https://miro.medium.com/max/1000/1*Hh53mOF4Xy4eORjLilKOwA.png\" alt=\"drawing\" width=\"800\"/>](https://miro.medium.com/max/1000/1*Hh53mOF4Xy4eORjLilKOwA.png)"
      ]
    },
    {
      "cell_type": "code",
      "execution_count": null,
      "id": "medieval-cowboy",
      "metadata": {
        "colab": {
          "base_uri": "https://localhost:8080/",
          "height": 206
        },
        "id": "medieval-cowboy",
        "outputId": "64526f43-8548-4439-e8b6-29228e25ff51"
      },
      "outputs": [
        {
          "output_type": "execute_result",
          "data": {
            "text/plain": [
              "   sepal length (cm)  sepal width (cm)  petal length (cm)  petal width (cm)\n",
              "0                5.1               3.5                1.4               0.2\n",
              "1                4.9               3.0                1.4               0.2\n",
              "2                4.7               3.2                1.3               0.2\n",
              "3                4.6               3.1                1.5               0.2\n",
              "4                5.0               3.6                1.4               0.2"
            ],
            "text/html": [
              "\n",
              "  <div id=\"df-98f10c01-4e66-4d85-9efc-5dd9bc78b459\">\n",
              "    <div class=\"colab-df-container\">\n",
              "      <div>\n",
              "<style scoped>\n",
              "    .dataframe tbody tr th:only-of-type {\n",
              "        vertical-align: middle;\n",
              "    }\n",
              "\n",
              "    .dataframe tbody tr th {\n",
              "        vertical-align: top;\n",
              "    }\n",
              "\n",
              "    .dataframe thead th {\n",
              "        text-align: right;\n",
              "    }\n",
              "</style>\n",
              "<table border=\"1\" class=\"dataframe\">\n",
              "  <thead>\n",
              "    <tr style=\"text-align: right;\">\n",
              "      <th></th>\n",
              "      <th>sepal length (cm)</th>\n",
              "      <th>sepal width (cm)</th>\n",
              "      <th>petal length (cm)</th>\n",
              "      <th>petal width (cm)</th>\n",
              "    </tr>\n",
              "  </thead>\n",
              "  <tbody>\n",
              "    <tr>\n",
              "      <th>0</th>\n",
              "      <td>5.1</td>\n",
              "      <td>3.5</td>\n",
              "      <td>1.4</td>\n",
              "      <td>0.2</td>\n",
              "    </tr>\n",
              "    <tr>\n",
              "      <th>1</th>\n",
              "      <td>4.9</td>\n",
              "      <td>3.0</td>\n",
              "      <td>1.4</td>\n",
              "      <td>0.2</td>\n",
              "    </tr>\n",
              "    <tr>\n",
              "      <th>2</th>\n",
              "      <td>4.7</td>\n",
              "      <td>3.2</td>\n",
              "      <td>1.3</td>\n",
              "      <td>0.2</td>\n",
              "    </tr>\n",
              "    <tr>\n",
              "      <th>3</th>\n",
              "      <td>4.6</td>\n",
              "      <td>3.1</td>\n",
              "      <td>1.5</td>\n",
              "      <td>0.2</td>\n",
              "    </tr>\n",
              "    <tr>\n",
              "      <th>4</th>\n",
              "      <td>5.0</td>\n",
              "      <td>3.6</td>\n",
              "      <td>1.4</td>\n",
              "      <td>0.2</td>\n",
              "    </tr>\n",
              "  </tbody>\n",
              "</table>\n",
              "</div>\n",
              "      <button class=\"colab-df-convert\" onclick=\"convertToInteractive('df-98f10c01-4e66-4d85-9efc-5dd9bc78b459')\"\n",
              "              title=\"Convert this dataframe to an interactive table.\"\n",
              "              style=\"display:none;\">\n",
              "        \n",
              "  <svg xmlns=\"http://www.w3.org/2000/svg\" height=\"24px\"viewBox=\"0 0 24 24\"\n",
              "       width=\"24px\">\n",
              "    <path d=\"M0 0h24v24H0V0z\" fill=\"none\"/>\n",
              "    <path d=\"M18.56 5.44l.94 2.06.94-2.06 2.06-.94-2.06-.94-.94-2.06-.94 2.06-2.06.94zm-11 1L8.5 8.5l.94-2.06 2.06-.94-2.06-.94L8.5 2.5l-.94 2.06-2.06.94zm10 10l.94 2.06.94-2.06 2.06-.94-2.06-.94-.94-2.06-.94 2.06-2.06.94z\"/><path d=\"M17.41 7.96l-1.37-1.37c-.4-.4-.92-.59-1.43-.59-.52 0-1.04.2-1.43.59L10.3 9.45l-7.72 7.72c-.78.78-.78 2.05 0 2.83L4 21.41c.39.39.9.59 1.41.59.51 0 1.02-.2 1.41-.59l7.78-7.78 2.81-2.81c.8-.78.8-2.07 0-2.86zM5.41 20L4 18.59l7.72-7.72 1.47 1.35L5.41 20z\"/>\n",
              "  </svg>\n",
              "      </button>\n",
              "      \n",
              "  <style>\n",
              "    .colab-df-container {\n",
              "      display:flex;\n",
              "      flex-wrap:wrap;\n",
              "      gap: 12px;\n",
              "    }\n",
              "\n",
              "    .colab-df-convert {\n",
              "      background-color: #E8F0FE;\n",
              "      border: none;\n",
              "      border-radius: 50%;\n",
              "      cursor: pointer;\n",
              "      display: none;\n",
              "      fill: #1967D2;\n",
              "      height: 32px;\n",
              "      padding: 0 0 0 0;\n",
              "      width: 32px;\n",
              "    }\n",
              "\n",
              "    .colab-df-convert:hover {\n",
              "      background-color: #E2EBFA;\n",
              "      box-shadow: 0px 1px 2px rgba(60, 64, 67, 0.3), 0px 1px 3px 1px rgba(60, 64, 67, 0.15);\n",
              "      fill: #174EA6;\n",
              "    }\n",
              "\n",
              "    [theme=dark] .colab-df-convert {\n",
              "      background-color: #3B4455;\n",
              "      fill: #D2E3FC;\n",
              "    }\n",
              "\n",
              "    [theme=dark] .colab-df-convert:hover {\n",
              "      background-color: #434B5C;\n",
              "      box-shadow: 0px 1px 3px 1px rgba(0, 0, 0, 0.15);\n",
              "      filter: drop-shadow(0px 1px 2px rgba(0, 0, 0, 0.3));\n",
              "      fill: #FFFFFF;\n",
              "    }\n",
              "  </style>\n",
              "\n",
              "      <script>\n",
              "        const buttonEl =\n",
              "          document.querySelector('#df-98f10c01-4e66-4d85-9efc-5dd9bc78b459 button.colab-df-convert');\n",
              "        buttonEl.style.display =\n",
              "          google.colab.kernel.accessAllowed ? 'block' : 'none';\n",
              "\n",
              "        async function convertToInteractive(key) {\n",
              "          const element = document.querySelector('#df-98f10c01-4e66-4d85-9efc-5dd9bc78b459');\n",
              "          const dataTable =\n",
              "            await google.colab.kernel.invokeFunction('convertToInteractive',\n",
              "                                                     [key], {});\n",
              "          if (!dataTable) return;\n",
              "\n",
              "          const docLinkHtml = 'Like what you see? Visit the ' +\n",
              "            '<a target=\"_blank\" href=https://colab.research.google.com/notebooks/data_table.ipynb>data table notebook</a>'\n",
              "            + ' to learn more about interactive tables.';\n",
              "          element.innerHTML = '';\n",
              "          dataTable['output_type'] = 'display_data';\n",
              "          await google.colab.output.renderOutput(dataTable, element);\n",
              "          const docLink = document.createElement('div');\n",
              "          docLink.innerHTML = docLinkHtml;\n",
              "          element.appendChild(docLink);\n",
              "        }\n",
              "      </script>\n",
              "    </div>\n",
              "  </div>\n",
              "  "
            ]
          },
          "metadata": {},
          "execution_count": 3
        }
      ],
      "source": [
        "from sklearn.datasets import load_iris\n",
        "data = load_iris()\n",
        "X = pd.DataFrame(data['data'], columns = data['feature_names'])\n",
        "y = data['target']\n",
        "X.head()"
      ]
    },
    {
      "cell_type": "code",
      "source": [
        "y"
      ],
      "metadata": {
        "colab": {
          "base_uri": "https://localhost:8080/"
        },
        "id": "zZ9kcFv0vyN9",
        "outputId": "b0fa442d-614e-447d-bafa-57c642d2f3b6"
      },
      "id": "zZ9kcFv0vyN9",
      "execution_count": null,
      "outputs": [
        {
          "output_type": "execute_result",
          "data": {
            "text/plain": [
              "array([0, 0, 0, 0, 0, 0, 0, 0, 0, 0, 0, 0, 0, 0, 0, 0, 0, 0, 0, 0, 0, 0,\n",
              "       0, 0, 0, 0, 0, 0, 0, 0, 0, 0, 0, 0, 0, 0, 0, 0, 0, 0, 0, 0, 0, 0,\n",
              "       0, 0, 0, 0, 0, 0, 1, 1, 1, 1, 1, 1, 1, 1, 1, 1, 1, 1, 1, 1, 1, 1,\n",
              "       1, 1, 1, 1, 1, 1, 1, 1, 1, 1, 1, 1, 1, 1, 1, 1, 1, 1, 1, 1, 1, 1,\n",
              "       1, 1, 1, 1, 1, 1, 1, 1, 1, 1, 1, 1, 2, 2, 2, 2, 2, 2, 2, 2, 2, 2,\n",
              "       2, 2, 2, 2, 2, 2, 2, 2, 2, 2, 2, 2, 2, 2, 2, 2, 2, 2, 2, 2, 2, 2,\n",
              "       2, 2, 2, 2, 2, 2, 2, 2, 2, 2, 2, 2, 2, 2, 2, 2, 2, 2])"
            ]
          },
          "metadata": {},
          "execution_count": 10
        }
      ]
    },
    {
      "cell_type": "code",
      "source": [
        "print(data.DESCR)"
      ],
      "metadata": {
        "colab": {
          "base_uri": "https://localhost:8080/"
        },
        "id": "m7iXa5KZv-Bx",
        "outputId": "c7843d2e-ba88-453e-a6a5-e02ec327f549"
      },
      "id": "m7iXa5KZv-Bx",
      "execution_count": null,
      "outputs": [
        {
          "output_type": "stream",
          "name": "stdout",
          "text": [
            ".. _iris_dataset:\n",
            "\n",
            "Iris plants dataset\n",
            "--------------------\n",
            "\n",
            "**Data Set Characteristics:**\n",
            "\n",
            "    :Number of Instances: 150 (50 in each of three classes)\n",
            "    :Number of Attributes: 4 numeric, predictive attributes and the class\n",
            "    :Attribute Information:\n",
            "        - sepal length in cm\n",
            "        - sepal width in cm\n",
            "        - petal length in cm\n",
            "        - petal width in cm\n",
            "        - class:\n",
            "                - Iris-Setosa\n",
            "                - Iris-Versicolour\n",
            "                - Iris-Virginica\n",
            "                \n",
            "    :Summary Statistics:\n",
            "\n",
            "    ============== ==== ==== ======= ===== ====================\n",
            "                    Min  Max   Mean    SD   Class Correlation\n",
            "    ============== ==== ==== ======= ===== ====================\n",
            "    sepal length:   4.3  7.9   5.84   0.83    0.7826\n",
            "    sepal width:    2.0  4.4   3.05   0.43   -0.4194\n",
            "    petal length:   1.0  6.9   3.76   1.76    0.9490  (high!)\n",
            "    petal width:    0.1  2.5   1.20   0.76    0.9565  (high!)\n",
            "    ============== ==== ==== ======= ===== ====================\n",
            "\n",
            "    :Missing Attribute Values: None\n",
            "    :Class Distribution: 33.3% for each of 3 classes.\n",
            "    :Creator: R.A. Fisher\n",
            "    :Donor: Michael Marshall (MARSHALL%PLU@io.arc.nasa.gov)\n",
            "    :Date: July, 1988\n",
            "\n",
            "The famous Iris database, first used by Sir R.A. Fisher. The dataset is taken\n",
            "from Fisher's paper. Note that it's the same as in R, but not as in the UCI\n",
            "Machine Learning Repository, which has two wrong data points.\n",
            "\n",
            "This is perhaps the best known database to be found in the\n",
            "pattern recognition literature.  Fisher's paper is a classic in the field and\n",
            "is referenced frequently to this day.  (See Duda & Hart, for example.)  The\n",
            "data set contains 3 classes of 50 instances each, where each class refers to a\n",
            "type of iris plant.  One class is linearly separable from the other 2; the\n",
            "latter are NOT linearly separable from each other.\n",
            "\n",
            ".. topic:: References\n",
            "\n",
            "   - Fisher, R.A. \"The use of multiple measurements in taxonomic problems\"\n",
            "     Annual Eugenics, 7, Part II, 179-188 (1936); also in \"Contributions to\n",
            "     Mathematical Statistics\" (John Wiley, NY, 1950).\n",
            "   - Duda, R.O., & Hart, P.E. (1973) Pattern Classification and Scene Analysis.\n",
            "     (Q327.D83) John Wiley & Sons.  ISBN 0-471-22361-1.  See page 218.\n",
            "   - Dasarathy, B.V. (1980) \"Nosing Around the Neighborhood: A New System\n",
            "     Structure and Classification Rule for Recognition in Partially Exposed\n",
            "     Environments\".  IEEE Transactions on Pattern Analysis and Machine\n",
            "     Intelligence, Vol. PAMI-2, No. 1, 67-71.\n",
            "   - Gates, G.W. (1972) \"The Reduced Nearest Neighbor Rule\".  IEEE Transactions\n",
            "     on Information Theory, May 1972, 431-433.\n",
            "   - See also: 1988 MLC Proceedings, 54-64.  Cheeseman et al\"s AUTOCLASS II\n",
            "     conceptual clustering system finds 3 classes in the data.\n",
            "   - Many, many more ...\n"
          ]
        }
      ]
    },
    {
      "cell_type": "markdown",
      "id": "conservative-target",
      "metadata": {
        "id": "conservative-target"
      },
      "source": [
        "**Задание 1.** Перейдём к задаче бинарной классификации: будем предсказывать принадлежность цветка к виду `versicolor` против принадлежности ко всем прочим видам. Перекодируйте зависимую переменную так, чтобы цветки вида `versicolor` имели метку 1, а прочих видов – метку -1. "
      ]
    },
    {
      "cell_type": "code",
      "execution_count": null,
      "id": "signal-stereo",
      "metadata": {
        "id": "signal-stereo"
      },
      "outputs": [],
      "source": [
        "# Перекодировка\n",
        "y[y != 1] = -1"
      ]
    },
    {
      "cell_type": "markdown",
      "id": "governmental-repository",
      "metadata": {
        "id": "governmental-repository"
      },
      "source": [
        "**Задание 2**. Будем работать с двумя признаками: `sepal length (cm)` и `sepal width (cm)`. Отделите их в отдельную матрицу. Разделите выборку на обучающую и тестовую, долю тестовой выборки укажите равной 0.3. Отмасштабируйте выборки при помощи StandardScaler. Постройте диаграмму рассеяния по тренировочной выборке и убедитесь, что данные линейно не разделимы. "
      ]
    },
    {
      "cell_type": "code",
      "execution_count": null,
      "id": "ordered-pavilion",
      "metadata": {
        "colab": {
          "base_uri": "https://localhost:8080/",
          "height": 283
        },
        "id": "ordered-pavilion",
        "outputId": "5cb2f477-d3b7-4881-a0ee-d1e2e5ef0761"
      },
      "outputs": [
        {
          "output_type": "execute_result",
          "data": {
            "text/plain": [
              "<matplotlib.collections.PathCollection at 0x7fe9fa98ce50>"
            ]
          },
          "metadata": {},
          "execution_count": 12
        },
        {
          "output_type": "display_data",
          "data": {
            "text/plain": [
              "<Figure size 432x288 with 1 Axes>"
            ],
            "image/png": "[encoded data removed]"
          },
          "metadata": {
            "needs_background": "light"
          }
        }
      ],
      "source": [
        "from sklearn.model_selection import train_test_split\n",
        "from sklearn.preprocessing import StandardScaler\n",
        "np.random.seed(123)\n",
        "\n",
        "X = X[['sepal length (cm)', 'sepal width (cm)']]\n",
        "\n",
        "X_train, X_test, y_train, y_test = train_test_split(X, y, test_size=0.3)\n",
        "\n",
        "# Отмасштабируйте признаки\n",
        "ss = StandardScaler()\n",
        "X_train = ss.fit_transform(X_train)\n",
        "X_test = ss.transform(X_test)\n",
        "\n",
        "plt.scatter(X_train[:, 0], X_train[:, 1], c = y_train)"
      ]
    },
    {
      "cell_type": "markdown",
      "id": "divine-lease",
      "metadata": {
        "id": "divine-lease"
      },
      "source": [
        "**Задание 3.** Обучите логистическую регрессию и **SVM с линейным ядром** на тренировочной выборке и убедитесь, что полученные оценки весов действительно различаются. Убедитесь, что `accuracy`, возможно, не подходит в качестве метрики для данной задачи и рассчитайте `f1-меру` на тестовой выборке. Какой алгорим показал более высокое качество?"
      ]
    },
    {
      "cell_type": "code",
      "execution_count": null,
      "id": "interim-rabbit",
      "metadata": {
        "id": "interim-rabbit"
      },
      "outputs": [],
      "source": [
        "from sklearn.linear_model import LogisticRegression\n",
        "from sklearn.svm import SVC"
      ]
    },
    {
      "cell_type": "code",
      "execution_count": null,
      "id": "spiritual-definition",
      "metadata": {
        "id": "spiritual-definition"
      },
      "outputs": [],
      "source": [
        "lr = LogisticRegression()\n",
        "svm = SVC(kernel = 'linear')\n",
        "\n",
        "# Обучите логистическую регрессию и SVM\n",
        "lr.fit(X_train, y_train)\n",
        "svm.fit(X_train, y_train)\n",
        "\n",
        "pred_lr = lr.predict(X_test)\n",
        "pred_svm = svm.predict(X_test)"
      ]
    },
    {
      "cell_type": "code",
      "source": [
        "probs_lr = lr.predict_proba(X_test) # честные вероятности\n",
        "\n",
        "probs_lr[:,1]"
      ],
      "metadata": {
        "colab": {
          "base_uri": "https://localhost:8080/"
        },
        "id": "7bp0B6rDzTie",
        "outputId": "c95fee6c-58c4-45d0-e031-000eb748bb3b"
      },
      "id": "7bp0B6rDzTie",
      "execution_count": null,
      "outputs": [
        {
          "output_type": "execute_result",
          "data": {
            "text/plain": [
              "array([0.70580359, 0.42794626, 0.53246461, 0.36230943, 0.09433732,\n",
              "       0.38375315, 0.80012447, 0.205469  , 0.35790189, 0.60723038,\n",
              "       0.37208085, 0.02508257, 0.52770003, 0.411198  , 0.47903833,\n",
              "       0.411198  , 0.13374563, 0.2966294 , 0.45147076, 0.32108995,\n",
              "       0.15695951, 0.52675312, 0.14520272, 0.38918923, 0.06134583,\n",
              "       0.16312282, 0.16312282, 0.4866603 , 0.10604156, 0.09631442,\n",
              "       0.58887277, 0.8283935 , 0.21692496, 0.12347297, 0.8283935 ,\n",
              "       0.74819839, 0.11046747, 0.0514106 , 0.0514106 , 0.56180069,\n",
              "       0.86494704, 0.22883569, 0.30955118, 0.42234314, 0.56180069])"
            ]
          },
          "metadata": {},
          "execution_count": 25
        }
      ]
    },
    {
      "cell_type": "code",
      "source": [
        "from sklearn.metrics import accuracy_score, f1_score\n",
        "\n",
        "f1_score(y_test, pred_lr)"
      ],
      "metadata": {
        "colab": {
          "base_uri": "https://localhost:8080/"
        },
        "id": "uNDWEpnHxZ-3",
        "outputId": "a2740da6-8d19-4d9c-c94a-ea4a431ab0d1"
      },
      "id": "uNDWEpnHxZ-3",
      "execution_count": null,
      "outputs": [
        {
          "output_type": "execute_result",
          "data": {
            "text/plain": [
              "0.6956521739130435"
            ]
          },
          "metadata": {},
          "execution_count": 17
        }
      ]
    },
    {
      "cell_type": "code",
      "source": [
        "f1_score(y_test, pred_svm)"
      ],
      "metadata": {
        "colab": {
          "base_uri": "https://localhost:8080/"
        },
        "id": "GA4SLtyaxh1h",
        "outputId": "fbe3475e-24b1-4786-a46e-94c755fba499"
      },
      "id": "GA4SLtyaxh1h",
      "execution_count": null,
      "outputs": [
        {
          "output_type": "execute_result",
          "data": {
            "text/plain": [
              "0.8000000000000002"
            ]
          },
          "metadata": {},
          "execution_count": 18
        }
      ]
    },
    {
      "cell_type": "code",
      "source": [
        "lr.coef_, lr.intercept_"
      ],
      "metadata": {
        "colab": {
          "base_uri": "https://localhost:8080/"
        },
        "id": "lqzXR2kKyrnO",
        "outputId": "f3d4ece5-f461-4ae6-bdb8-323a10f6c23d"
      },
      "id": "lqzXR2kKyrnO",
      "execution_count": null,
      "outputs": [
        {
          "output_type": "execute_result",
          "data": {
            "text/plain": [
              "(array([[ 0.18163349, -1.04216502]]), array([-0.63277666]))"
            ]
          },
          "metadata": {},
          "execution_count": 20
        }
      ]
    },
    {
      "cell_type": "code",
      "source": [
        "svm.coef_, svm.intercept_"
      ],
      "metadata": {
        "colab": {
          "base_uri": "https://localhost:8080/"
        },
        "id": "KJlXg3I8y1jl",
        "outputId": "c4da374a-c7d2-487c-e74f-3fd1720dd8da"
      },
      "id": "KJlXg3I8y1jl",
      "execution_count": null,
      "outputs": [
        {
          "output_type": "execute_result",
          "data": {
            "text/plain": [
              "(array([[-3.78448050e-05, -1.01771688e+00]]), array([-0.62617207]))"
            ]
          },
          "metadata": {},
          "execution_count": 21
        }
      ]
    },
    {
      "cell_type": "markdown",
      "id": "running-stock",
      "metadata": {
        "id": "running-stock"
      },
      "source": [
        "Теперь посмотрим, как различаются решающие поверхности алгоритмов. "
      ]
    },
    {
      "cell_type": "markdown",
      "id": "manufactured-breeding",
      "metadata": {
        "id": "manufactured-breeding"
      },
      "source": [
        "Код ниже построит решающие поверхности для классификаторов. Чтобы он заработал, нужно обязательно сделать `fit` для `lr` и `svm` выше."
      ]
    },
    {
      "cell_type": "code",
      "execution_count": null,
      "id": "divine-period",
      "metadata": {
        "colab": {
          "base_uri": "https://localhost:8080/"
        },
        "id": "divine-period",
        "outputId": "47ce47ff-3226-435a-bd05-bdb8681eeada"
      },
      "outputs": [
        {
          "output_type": "stream",
          "name": "stdout",
          "text": [
            "Requirement already satisfied: mlxtend in /usr/local/lib/python3.7/dist-packages (0.14.0)\n",
            "Collecting mlxtend\n",
            "  Downloading mlxtend-0.19.0-py2.py3-none-any.whl (1.3 MB)\n",
            "\u001b[K     |████████████████████████████████| 1.3 MB 4.4 MB/s \n",
            "\u001b[?25hRequirement already satisfied: matplotlib>=3.0.0 in /usr/local/lib/python3.7/dist-packages (from mlxtend) (3.2.2)\n",
            "Requirement already satisfied: numpy>=1.16.2 in /usr/local/lib/python3.7/dist-packages (from mlxtend) (1.21.5)\n",
            "Requirement already satisfied: joblib>=0.13.2 in /usr/local/lib/python3.7/dist-packages (from mlxtend) (1.1.0)\n",
            "Requirement already satisfied: scikit-learn>=0.20.3 in /usr/local/lib/python3.7/dist-packages (from mlxtend) (1.0.2)\n",
            "Requirement already satisfied: pandas>=0.24.2 in /usr/local/lib/python3.7/dist-packages (from mlxtend) (1.3.5)\n",
            "Requirement already satisfied: setuptools in /usr/local/lib/python3.7/dist-packages (from mlxtend) (57.4.0)\n",
            "Requirement already satisfied: scipy>=1.2.1 in /usr/local/lib/python3.7/dist-packages (from mlxtend) (1.4.1)\n",
            "Requirement already satisfied: pyparsing!=2.0.4,!=2.1.2,!=2.1.6,>=2.0.1 in /usr/local/lib/python3.7/dist-packages (from matplotlib>=3.0.0->mlxtend) (3.0.7)\n",
            "Requirement already satisfied: python-dateutil>=2.1 in /usr/local/lib/python3.7/dist-packages (from matplotlib>=3.0.0->mlxtend) (2.8.2)\n",
            "Requirement already satisfied: kiwisolver>=1.0.1 in /usr/local/lib/python3.7/dist-packages (from matplotlib>=3.0.0->mlxtend) (1.4.0)\n",
            "Requirement already satisfied: cycler>=0.10 in /usr/local/lib/python3.7/dist-packages (from matplotlib>=3.0.0->mlxtend) (0.11.0)\n",
            "Requirement already satisfied: typing-extensions in /usr/local/lib/python3.7/dist-packages (from kiwisolver>=1.0.1->matplotlib>=3.0.0->mlxtend) (3.10.0.2)\n",
            "Requirement already satisfied: pytz>=2017.3 in /usr/local/lib/python3.7/dist-packages (from pandas>=0.24.2->mlxtend) (2018.9)\n",
            "Requirement already satisfied: six>=1.5 in /usr/local/lib/python3.7/dist-packages (from python-dateutil>=2.1->matplotlib>=3.0.0->mlxtend) (1.15.0)\n",
            "Requirement already satisfied: threadpoolctl>=2.0.0 in /usr/local/lib/python3.7/dist-packages (from scikit-learn>=0.20.3->mlxtend) (3.1.0)\n",
            "Installing collected packages: mlxtend\n",
            "  Attempting uninstall: mlxtend\n",
            "    Found existing installation: mlxtend 0.14.0\n",
            "    Uninstalling mlxtend-0.14.0:\n",
            "      Successfully uninstalled mlxtend-0.14.0\n",
            "Successfully installed mlxtend-0.19.0\n"
          ]
        }
      ],
      "source": [
        "# !pip install mlxtend\n",
        "\n",
        "# В Колабе, возможно\n",
        "!pip install mlxtend --upgrade"
      ]
    },
    {
      "cell_type": "code",
      "execution_count": null,
      "id": "impressive-chamber",
      "metadata": {
        "colab": {
          "base_uri": "https://localhost:8080/",
          "height": 499
        },
        "id": "impressive-chamber",
        "outputId": "09fe93a6-a456-41f2-947f-8a573c01c197"
      },
      "outputs": [
        {
          "output_type": "display_data",
          "data": {
            "text/plain": [
              "<Figure size 720x576 with 2 Axes>"
            ],
            "image/png": "[encoded data removed]"
          },
          "metadata": {
            "needs_background": "light"
          }
        }
      ],
      "source": [
        "import itertools\n",
        "\n",
        "import matplotlib.gridspec as gridspec\n",
        "import matplotlib.pyplot as plt\n",
        "\n",
        "from mlxtend.plotting import plot_decision_regions\n",
        "\n",
        "gs = gridspec.GridSpec(1, 2)\n",
        "\n",
        "fig = plt.figure(figsize=(10,8))\n",
        "\n",
        "labels = ['Logistic Regression', 'SVM']\n",
        "for clf, lab, grd in zip([lr, svm],\n",
        "                         labels,\n",
        "                         itertools.product([0, 1], repeat=2)):\n",
        "\n",
        "    ax = plt.subplot(gs[grd[0], grd[1]])\n",
        "    fig = plot_decision_regions(X = np.array(X_train), y = np.array(y_train), clf=clf, legend=2)\n",
        "    plt.title(lab)\n",
        "\n",
        "plt.show()"
      ]
    },
    {
      "cell_type": "markdown",
      "id": "satellite-vacation",
      "metadata": {
        "id": "satellite-vacation"
      },
      "source": [
        "Теперь изучим свойства каждого классификатора по-отдельности. Начнём с логистической регрессии.\n",
        "\n",
        "**Задание 3.** Обучите три различные логистические регрессии с разным параметром регуляризации $\\alpha$ (обратите внимание, что в реализации `sklearn` $C = 1/\\alpha$). Как изменяется разделяющая поверхность в зависимости от $\\alpha$?"
      ]
    },
    {
      "cell_type": "code",
      "execution_count": null,
      "id": "proper-accused",
      "metadata": {
        "id": "proper-accused"
      },
      "outputs": [],
      "source": [
        "lr1 = LogisticRegression(C = 0.01)\n",
        "lr2 = LogisticRegression(C = 0.05)\n",
        "lr3 = LogisticRegression(C = 10)"
      ]
    },
    {
      "cell_type": "code",
      "execution_count": null,
      "id": "thorough-architect",
      "metadata": {
        "colab": {
          "base_uri": "https://localhost:8080/",
          "height": 499
        },
        "id": "thorough-architect",
        "outputId": "4c7bd1e1-c092-425f-f4ca-5e2a9b30e112"
      },
      "outputs": [
        {
          "output_type": "display_data",
          "data": {
            "text/plain": [
              "<Figure size 1080x576 with 3 Axes>"
            ],
            "image/png": "[encoded data removed]"
          },
          "metadata": {
            "needs_background": "light"
          }
        }
      ],
      "source": [
        "import matplotlib.pyplot as plt\n",
        "from mlxtend.plotting import plot_decision_regions\n",
        "import matplotlib.gridspec as gridspec\n",
        "import itertools\n",
        "gs = gridspec.GridSpec(1, 3)\n",
        "\n",
        "fig = plt.figure(figsize=(15,8))\n",
        "\n",
        "labels = ['C = 0.01', 'C = 0.05', 'C = 10']\n",
        "for clf, lab, grd in zip([lr1, lr2, lr3],\n",
        "                         labels,\n",
        "                         itertools.product([0, 1, 2], repeat=2)):\n",
        "    clf.fit(X_train, y_train)\n",
        "    ax = plt.subplot(gs[grd[0], grd[1]])\n",
        "    fig = plot_decision_regions(X = X_train, y = np.array(y_train), clf=clf, legend=2)\n",
        "    plt.title(lab)\n",
        "\n",
        "plt.show()"
      ]
    },
    {
      "cell_type": "markdown",
      "id": "limiting-supply",
      "metadata": {
        "id": "limiting-supply"
      },
      "source": [
        "**Задание 4.** Теперь посмотрим на решение задачи мягкой классификации. При помощи метода `predict_proba()` любой из обученных логистических регрессий сделайте предсказание вероятностей положительного класса."
      ]
    },
    {
      "cell_type": "code",
      "execution_count": null,
      "id": "collected-shaft",
      "metadata": {
        "id": "collected-shaft"
      },
      "outputs": [],
      "source": [
        ""
      ]
    },
    {
      "cell_type": "markdown",
      "id": "behind-northern",
      "metadata": {
        "id": "behind-northern"
      },
      "source": [
        "Перейдём к SVM.\n",
        "\n",
        "**Задание 4.** Обучите три SVM с линейным ядром с разным параметром регуляризации $C$. Как изменяется разделяющая поверхность в зависимости от $C$?"
      ]
    },
    {
      "cell_type": "code",
      "execution_count": null,
      "id": "found-shadow",
      "metadata": {
        "id": "found-shadow"
      },
      "outputs": [],
      "source": [
        "svc1 = SVC(C = 0.04, kernel = 'linear')\n",
        "svc2 = SVC(C = 1, kernel = 'linear')\n",
        "svc3 = SVC(C = 10, kernel = 'linear')"
      ]
    },
    {
      "cell_type": "code",
      "execution_count": null,
      "id": "imperial-primary",
      "metadata": {
        "colab": {
          "base_uri": "https://localhost:8080/",
          "height": 499
        },
        "id": "imperial-primary",
        "outputId": "511f6b99-d298-4047-8310-f905ab60c9af"
      },
      "outputs": [
        {
          "output_type": "display_data",
          "data": {
            "text/plain": [
              "<Figure size 1080x576 with 3 Axes>"
            ],
            "image/png": "[encoded data removed]"
          },
          "metadata": {
            "needs_background": "light"
          }
        }
      ],
      "source": [
        "import matplotlib.pyplot as plt\n",
        "from mlxtend.plotting import plot_decision_regions\n",
        "import matplotlib.gridspec as gridspec\n",
        "import itertools\n",
        "gs = gridspec.GridSpec(1, 3)\n",
        "\n",
        "fig = plt.figure(figsize=(15,8))\n",
        "\n",
        "labels = ['C = 0.04', 'C = 1', 'C = 10']\n",
        "for clf, lab, grd in zip([svc1, svc2, svc3],\n",
        "                         labels,\n",
        "                         itertools.product([0, 1, 2], repeat=2)):\n",
        "    clf.fit(X_train, y_train)\n",
        "    ax = plt.subplot(gs[grd[0], grd[1]])\n",
        "    fig = plot_decision_regions(X = X_train, y = np.array(y_train), clf=clf, legend=2)\n",
        "    plt.title(lab)\n",
        "\n",
        "plt.show()"
      ]
    },
    {
      "cell_type": "markdown",
      "id": "touched-resource",
      "metadata": {
        "id": "touched-resource"
      },
      "source": [
        "### Логистическая регрессия и SVM на менее приятных данных (если есть время)"
      ]
    },
    {
      "cell_type": "markdown",
      "id": "accessible-cleanup",
      "metadata": {
        "id": "accessible-cleanup"
      },
      "source": [
        "Мы будем работать с [набором данных](https://www.kaggle.com/piyushgoyal443/red-wine-dataset?select=wineQualityReds.csv), содержащим информацию о характеристиках вина. Каждое наблюдение принадлежит к одному из 10 категорий качества вина, и наша задача заключается в том, что предсказать эту категорию. "
      ]
    },
    {
      "cell_type": "code",
      "execution_count": null,
      "id": "multiple-humor",
      "metadata": {
        "colab": {
          "base_uri": "https://localhost:8080/",
          "height": 346
        },
        "id": "multiple-humor",
        "outputId": "bb2bed17-c5c8-4a87-f03c-cef1f4a1eec6"
      },
      "outputs": [
        {
          "output_type": "error",
          "ename": "FileNotFoundError",
          "evalue": "ignored",
          "traceback": [
            "\u001b[0;31m---------------------------------------------------------------------------\u001b[0m",
            "\u001b[0;31mFileNotFoundError\u001b[0m                         Traceback (most recent call last)",
            "\u001b[0;32m<ipython-input-30-9df1d89e4d1a>\u001b[0m in \u001b[0;36m<module>\u001b[0;34m()\u001b[0m\n\u001b[0;32m----> 1\u001b[0;31m \u001b[0mdata\u001b[0m \u001b[0;34m=\u001b[0m \u001b[0mpd\u001b[0m\u001b[0;34m.\u001b[0m\u001b[0mread_csv\u001b[0m\u001b[0;34m(\u001b[0m\u001b[0;34m'wineQualityReds.csv'\u001b[0m\u001b[0;34m,\u001b[0m \u001b[0mindex_col\u001b[0m \u001b[0;34m=\u001b[0m \u001b[0;36m0\u001b[0m\u001b[0;34m)\u001b[0m\u001b[0;34m\u001b[0m\u001b[0;34m\u001b[0m\u001b[0m\n\u001b[0m\u001b[1;32m      2\u001b[0m \u001b[0mdata\u001b[0m\u001b[0;34m.\u001b[0m\u001b[0mhead\u001b[0m\u001b[0;34m(\u001b[0m\u001b[0;34m)\u001b[0m\u001b[0;34m\u001b[0m\u001b[0;34m\u001b[0m\u001b[0m\n",
            "\u001b[0;32m/usr/local/lib/python3.7/dist-packages/pandas/util/_decorators.py\u001b[0m in \u001b[0;36mwrapper\u001b[0;34m(*args, **kwargs)\u001b[0m\n\u001b[1;32m    309\u001b[0m                     \u001b[0mstacklevel\u001b[0m\u001b[0;34m=\u001b[0m\u001b[0mstacklevel\u001b[0m\u001b[0;34m,\u001b[0m\u001b[0;34m\u001b[0m\u001b[0;34m\u001b[0m\u001b[0m\n\u001b[1;32m    310\u001b[0m                 )\n\u001b[0;32m--> 311\u001b[0;31m             \u001b[0;32mreturn\u001b[0m \u001b[0mfunc\u001b[0m\u001b[0;34m(\u001b[0m\u001b[0;34m*\u001b[0m\u001b[0margs\u001b[0m\u001b[0;34m,\u001b[0m \u001b[0;34m**\u001b[0m\u001b[0mkwargs\u001b[0m\u001b[0;34m)\u001b[0m\u001b[0;34m\u001b[0m\u001b[0;34m\u001b[0m\u001b[0m\n\u001b[0m\u001b[1;32m    312\u001b[0m \u001b[0;34m\u001b[0m\u001b[0m\n\u001b[1;32m    313\u001b[0m         \u001b[0;32mreturn\u001b[0m \u001b[0mwrapper\u001b[0m\u001b[0;34m\u001b[0m\u001b[0;34m\u001b[0m\u001b[0m\n",
            "\u001b[0;32m/usr/local/lib/python3.7/dist-packages/pandas/io/parsers/readers.py\u001b[0m in \u001b[0;36mread_csv\u001b[0;34m(filepath_or_buffer, sep, delimiter, header, names, index_col, usecols, squeeze, prefix, mangle_dupe_cols, dtype, engine, converters, true_values, false_values, skipinitialspace, skiprows, skipfooter, nrows, na_values, keep_default_na, na_filter, verbose, skip_blank_lines, parse_dates, infer_datetime_format, keep_date_col, date_parser, dayfirst, cache_dates, iterator, chunksize, compression, thousands, decimal, lineterminator, quotechar, quoting, doublequote, escapechar, comment, encoding, encoding_errors, dialect, error_bad_lines, warn_bad_lines, on_bad_lines, delim_whitespace, low_memory, memory_map, float_precision, storage_options)\u001b[0m\n\u001b[1;32m    584\u001b[0m     \u001b[0mkwds\u001b[0m\u001b[0;34m.\u001b[0m\u001b[0mupdate\u001b[0m\u001b[0;34m(\u001b[0m\u001b[0mkwds_defaults\u001b[0m\u001b[0;34m)\u001b[0m\u001b[0;34m\u001b[0m\u001b[0;34m\u001b[0m\u001b[0m\n\u001b[1;32m    585\u001b[0m \u001b[0;34m\u001b[0m\u001b[0m\n\u001b[0;32m--> 586\u001b[0;31m     \u001b[0;32mreturn\u001b[0m \u001b[0m_read\u001b[0m\u001b[0;34m(\u001b[0m\u001b[0mfilepath_or_buffer\u001b[0m\u001b[0;34m,\u001b[0m \u001b[0mkwds\u001b[0m\u001b[0;34m)\u001b[0m\u001b[0;34m\u001b[0m\u001b[0;34m\u001b[0m\u001b[0m\n\u001b[0m\u001b[1;32m    587\u001b[0m \u001b[0;34m\u001b[0m\u001b[0m\n\u001b[1;32m    588\u001b[0m \u001b[0;34m\u001b[0m\u001b[0m\n",
            "\u001b[0;32m/usr/local/lib/python3.7/dist-packages/pandas/io/parsers/readers.py\u001b[0m in \u001b[0;36m_read\u001b[0;34m(filepath_or_buffer, kwds)\u001b[0m\n\u001b[1;32m    480\u001b[0m \u001b[0;34m\u001b[0m\u001b[0m\n\u001b[1;32m    481\u001b[0m     \u001b[0;31m# Create the parser.\u001b[0m\u001b[0;34m\u001b[0m\u001b[0;34m\u001b[0m\u001b[0;34m\u001b[0m\u001b[0m\n\u001b[0;32m--> 482\u001b[0;31m     \u001b[0mparser\u001b[0m \u001b[0;34m=\u001b[0m \u001b[0mTextFileReader\u001b[0m\u001b[0;34m(\u001b[0m\u001b[0mfilepath_or_buffer\u001b[0m\u001b[0;34m,\u001b[0m \u001b[0;34m**\u001b[0m\u001b[0mkwds\u001b[0m\u001b[0;34m)\u001b[0m\u001b[0;34m\u001b[0m\u001b[0;34m\u001b[0m\u001b[0m\n\u001b[0m\u001b[1;32m    483\u001b[0m \u001b[0;34m\u001b[0m\u001b[0m\n\u001b[1;32m    484\u001b[0m     \u001b[0;32mif\u001b[0m \u001b[0mchunksize\u001b[0m \u001b[0;32mor\u001b[0m \u001b[0miterator\u001b[0m\u001b[0;34m:\u001b[0m\u001b[0;34m\u001b[0m\u001b[0;34m\u001b[0m\u001b[0m\n",
            "\u001b[0;32m/usr/local/lib/python3.7/dist-packages/pandas/io/parsers/readers.py\u001b[0m in \u001b[0;36m__init__\u001b[0;34m(self, f, engine, **kwds)\u001b[0m\n\u001b[1;32m    809\u001b[0m             \u001b[0mself\u001b[0m\u001b[0;34m.\u001b[0m\u001b[0moptions\u001b[0m\u001b[0;34m[\u001b[0m\u001b[0;34m\"has_index_names\"\u001b[0m\u001b[0;34m]\u001b[0m \u001b[0;34m=\u001b[0m \u001b[0mkwds\u001b[0m\u001b[0;34m[\u001b[0m\u001b[0;34m\"has_index_names\"\u001b[0m\u001b[0;34m]\u001b[0m\u001b[0;34m\u001b[0m\u001b[0;34m\u001b[0m\u001b[0m\n\u001b[1;32m    810\u001b[0m \u001b[0;34m\u001b[0m\u001b[0m\n\u001b[0;32m--> 811\u001b[0;31m         \u001b[0mself\u001b[0m\u001b[0;34m.\u001b[0m\u001b[0m_engine\u001b[0m \u001b[0;34m=\u001b[0m \u001b[0mself\u001b[0m\u001b[0;34m.\u001b[0m\u001b[0m_make_engine\u001b[0m\u001b[0;34m(\u001b[0m\u001b[0mself\u001b[0m\u001b[0;34m.\u001b[0m\u001b[0mengine\u001b[0m\u001b[0;34m)\u001b[0m\u001b[0;34m\u001b[0m\u001b[0;34m\u001b[0m\u001b[0m\n\u001b[0m\u001b[1;32m    812\u001b[0m \u001b[0;34m\u001b[0m\u001b[0m\n\u001b[1;32m    813\u001b[0m     \u001b[0;32mdef\u001b[0m \u001b[0mclose\u001b[0m\u001b[0;34m(\u001b[0m\u001b[0mself\u001b[0m\u001b[0;34m)\u001b[0m\u001b[0;34m:\u001b[0m\u001b[0;34m\u001b[0m\u001b[0;34m\u001b[0m\u001b[0m\n",
            "\u001b[0;32m/usr/local/lib/python3.7/dist-packages/pandas/io/parsers/readers.py\u001b[0m in \u001b[0;36m_make_engine\u001b[0;34m(self, engine)\u001b[0m\n\u001b[1;32m   1038\u001b[0m             )\n\u001b[1;32m   1039\u001b[0m         \u001b[0;31m# error: Too many arguments for \"ParserBase\"\u001b[0m\u001b[0;34m\u001b[0m\u001b[0;34m\u001b[0m\u001b[0;34m\u001b[0m\u001b[0m\n\u001b[0;32m-> 1040\u001b[0;31m         \u001b[0;32mreturn\u001b[0m \u001b[0mmapping\u001b[0m\u001b[0;34m[\u001b[0m\u001b[0mengine\u001b[0m\u001b[0;34m]\u001b[0m\u001b[0;34m(\u001b[0m\u001b[0mself\u001b[0m\u001b[0;34m.\u001b[0m\u001b[0mf\u001b[0m\u001b[0;34m,\u001b[0m \u001b[0;34m**\u001b[0m\u001b[0mself\u001b[0m\u001b[0;34m.\u001b[0m\u001b[0moptions\u001b[0m\u001b[0;34m)\u001b[0m  \u001b[0;31m# type: ignore[call-arg]\u001b[0m\u001b[0;34m\u001b[0m\u001b[0;34m\u001b[0m\u001b[0m\n\u001b[0m\u001b[1;32m   1041\u001b[0m \u001b[0;34m\u001b[0m\u001b[0m\n\u001b[1;32m   1042\u001b[0m     \u001b[0;32mdef\u001b[0m \u001b[0m_failover_to_python\u001b[0m\u001b[0;34m(\u001b[0m\u001b[0mself\u001b[0m\u001b[0;34m)\u001b[0m\u001b[0;34m:\u001b[0m\u001b[0;34m\u001b[0m\u001b[0;34m\u001b[0m\u001b[0m\n",
            "\u001b[0;32m/usr/local/lib/python3.7/dist-packages/pandas/io/parsers/c_parser_wrapper.py\u001b[0m in \u001b[0;36m__init__\u001b[0;34m(self, src, **kwds)\u001b[0m\n\u001b[1;32m     49\u001b[0m \u001b[0;34m\u001b[0m\u001b[0m\n\u001b[1;32m     50\u001b[0m         \u001b[0;31m# open handles\u001b[0m\u001b[0;34m\u001b[0m\u001b[0;34m\u001b[0m\u001b[0;34m\u001b[0m\u001b[0m\n\u001b[0;32m---> 51\u001b[0;31m         \u001b[0mself\u001b[0m\u001b[0;34m.\u001b[0m\u001b[0m_open_handles\u001b[0m\u001b[0;34m(\u001b[0m\u001b[0msrc\u001b[0m\u001b[0;34m,\u001b[0m \u001b[0mkwds\u001b[0m\u001b[0;34m)\u001b[0m\u001b[0;34m\u001b[0m\u001b[0;34m\u001b[0m\u001b[0m\n\u001b[0m\u001b[1;32m     52\u001b[0m         \u001b[0;32massert\u001b[0m \u001b[0mself\u001b[0m\u001b[0;34m.\u001b[0m\u001b[0mhandles\u001b[0m \u001b[0;32mis\u001b[0m \u001b[0;32mnot\u001b[0m \u001b[0;32mNone\u001b[0m\u001b[0;34m\u001b[0m\u001b[0;34m\u001b[0m\u001b[0m\n\u001b[1;32m     53\u001b[0m \u001b[0;34m\u001b[0m\u001b[0m\n",
            "\u001b[0;32m/usr/local/lib/python3.7/dist-packages/pandas/io/parsers/base_parser.py\u001b[0m in \u001b[0;36m_open_handles\u001b[0;34m(self, src, kwds)\u001b[0m\n\u001b[1;32m    227\u001b[0m             \u001b[0mmemory_map\u001b[0m\u001b[0;34m=\u001b[0m\u001b[0mkwds\u001b[0m\u001b[0;34m.\u001b[0m\u001b[0mget\u001b[0m\u001b[0;34m(\u001b[0m\u001b[0;34m\"memory_map\"\u001b[0m\u001b[0;34m,\u001b[0m \u001b[0;32mFalse\u001b[0m\u001b[0;34m)\u001b[0m\u001b[0;34m,\u001b[0m\u001b[0;34m\u001b[0m\u001b[0;34m\u001b[0m\u001b[0m\n\u001b[1;32m    228\u001b[0m             \u001b[0mstorage_options\u001b[0m\u001b[0;34m=\u001b[0m\u001b[0mkwds\u001b[0m\u001b[0;34m.\u001b[0m\u001b[0mget\u001b[0m\u001b[0;34m(\u001b[0m\u001b[0;34m\"storage_options\"\u001b[0m\u001b[0;34m,\u001b[0m \u001b[0;32mNone\u001b[0m\u001b[0;34m)\u001b[0m\u001b[0;34m,\u001b[0m\u001b[0;34m\u001b[0m\u001b[0;34m\u001b[0m\u001b[0m\n\u001b[0;32m--> 229\u001b[0;31m             \u001b[0merrors\u001b[0m\u001b[0;34m=\u001b[0m\u001b[0mkwds\u001b[0m\u001b[0;34m.\u001b[0m\u001b[0mget\u001b[0m\u001b[0;34m(\u001b[0m\u001b[0;34m\"encoding_errors\"\u001b[0m\u001b[0;34m,\u001b[0m \u001b[0;34m\"strict\"\u001b[0m\u001b[0;34m)\u001b[0m\u001b[0;34m,\u001b[0m\u001b[0;34m\u001b[0m\u001b[0;34m\u001b[0m\u001b[0m\n\u001b[0m\u001b[1;32m    230\u001b[0m         )\n\u001b[1;32m    231\u001b[0m \u001b[0;34m\u001b[0m\u001b[0m\n",
            "\u001b[0;32m/usr/local/lib/python3.7/dist-packages/pandas/io/common.py\u001b[0m in \u001b[0;36mget_handle\u001b[0;34m(path_or_buf, mode, encoding, compression, memory_map, is_text, errors, storage_options)\u001b[0m\n\u001b[1;32m    705\u001b[0m                 \u001b[0mencoding\u001b[0m\u001b[0;34m=\u001b[0m\u001b[0mioargs\u001b[0m\u001b[0;34m.\u001b[0m\u001b[0mencoding\u001b[0m\u001b[0;34m,\u001b[0m\u001b[0;34m\u001b[0m\u001b[0;34m\u001b[0m\u001b[0m\n\u001b[1;32m    706\u001b[0m                 \u001b[0merrors\u001b[0m\u001b[0;34m=\u001b[0m\u001b[0merrors\u001b[0m\u001b[0;34m,\u001b[0m\u001b[0;34m\u001b[0m\u001b[0;34m\u001b[0m\u001b[0m\n\u001b[0;32m--> 707\u001b[0;31m                 \u001b[0mnewline\u001b[0m\u001b[0;34m=\u001b[0m\u001b[0;34m\"\"\u001b[0m\u001b[0;34m,\u001b[0m\u001b[0;34m\u001b[0m\u001b[0;34m\u001b[0m\u001b[0m\n\u001b[0m\u001b[1;32m    708\u001b[0m             )\n\u001b[1;32m    709\u001b[0m         \u001b[0;32melse\u001b[0m\u001b[0;34m:\u001b[0m\u001b[0;34m\u001b[0m\u001b[0;34m\u001b[0m\u001b[0m\n",
            "\u001b[0;31mFileNotFoundError\u001b[0m: [Errno 2] No such file or directory: 'wineQualityReds.csv'"
          ]
        }
      ],
      "source": [
        "data = pd.read_csv('wineQualityReds.csv', index_col = 0)\n",
        "data.head()"
      ]
    },
    {
      "cell_type": "markdown",
      "id": "german-artwork",
      "metadata": {
        "id": "german-artwork"
      },
      "source": [
        "Как указано в описании набора, в нём нет пропущенных значений, и все переменные являются непрерывными. Целевая переменная – `quality`. "
      ]
    },
    {
      "cell_type": "markdown",
      "id": "crazy-moses",
      "metadata": {
        "id": "crazy-moses"
      },
      "source": [
        "**Задание 1.** Перейдём к задаче бинарной классификации и будем предсказывать только наиболее популярную категорию качества. Закодируйте столбец `quality` так, чтобы наиболее частая категория (это категория 5) получила метку 1, а все прочие категории – метку -1."
      ]
    },
    {
      "cell_type": "code",
      "execution_count": null,
      "id": "prepared-laser",
      "metadata": {
        "id": "prepared-laser"
      },
      "outputs": [],
      "source": [
        ""
      ]
    },
    {
      "cell_type": "markdown",
      "id": "steady-ecology",
      "metadata": {
        "id": "steady-ecology"
      },
      "source": [
        "**Задание 2.** Разделите признаки и целевую переменную. Разделите выборку на тренировочную и тестовую, долю тестовой выборки укажите равной 0.3. При помощи `StandardScaler` отмасштабируйте тренировочную и тестовую выборки. "
      ]
    },
    {
      "cell_type": "code",
      "execution_count": null,
      "id": "beneficial-perry",
      "metadata": {
        "id": "beneficial-perry"
      },
      "outputs": [],
      "source": [
        "from sklearn.model_selection import train_test_split\n",
        "from sklearn.preprocessing import StandardScaler"
      ]
    },
    {
      "cell_type": "code",
      "execution_count": null,
      "id": "grateful-thesis",
      "metadata": {
        "id": "grateful-thesis"
      },
      "outputs": [],
      "source": [
        ""
      ]
    },
    {
      "cell_type": "markdown",
      "id": "quick-replica",
      "metadata": {
        "id": "quick-replica"
      },
      "source": [
        "**Задание 3.** При помощи кросс-валидации (параметры выберите сами) подберите оптимальные значения коэффициентов регуляризации для логистической регрессии и SVM с линейным ядром. Обучите модели с этими параметрами. Убедитесь, что доля правильных ответов – не лучший вариант для нашей задачи и рассчитайте F-меру на тестовой выборке. Какой алгоритм показал себя лучше? \n",
        "\n",
        " **Бонус для самых отважных:** качество работы SVM можно улучшить за счёт применения ядер, после чего разделяющая поверхность становится нелинейной. Если вам интересно, попросите семинариста рассказать об этом подробнее.  "
      ]
    },
    {
      "cell_type": "code",
      "execution_count": null,
      "id": "destroyed-cooling",
      "metadata": {
        "id": "destroyed-cooling"
      },
      "outputs": [],
      "source": [
        "from sklearn.model_selection import cross_validate\n",
        "\n",
        "scores_lr = []\n",
        "scores_svm = []\n",
        "\n",
        "for c in np.arange(0.1, 10, 1):\n",
        "    lr = LogisticRegression(C = c)\n",
        "    svm = SVC(C = c)\n",
        "    pass"
      ]
    },
    {
      "cell_type": "code",
      "execution_count": null,
      "id": "constitutional-hostel",
      "metadata": {
        "id": "constitutional-hostel"
      },
      "outputs": [],
      "source": [
        ""
      ]
    },
    {
      "cell_type": "markdown",
      "id": "neutral-notebook",
      "metadata": {
        "id": "neutral-notebook"
      },
      "source": [
        "### ROC-кривая"
      ]
    },
    {
      "cell_type": "markdown",
      "id": "marine-parish",
      "metadata": {
        "id": "marine-parish"
      },
      "source": [
        "Ранее мы узнали, что помимо accuracy в задачах классификации так же используются precision, recall и f-мера. Теперь пришло время познакомиться с ещё одной метрикой – ROC AUC.\n",
        "\n",
        "Для начала вспомним, что мы работаем с матрицей ошибок:\n",
        "\n",
        "|       | alg = 1          | alg = -1    |\n",
        "|-------| -----------------|-------------|\n",
        "|y = 1  |TP                |FN           |\n",
        "|y = -1 |FP                | TN          |\n",
        "\n",
        "Определим следующие величины:\n",
        "\n",
        "$$\n",
        "TPR \\text{ (true positive rate, recall, sensitivity)} = \\dfrac{TP}{TP + FN}\n",
        "$$\n",
        "– доля правильно предсказанных объектов положительного класса.\n",
        "\n",
        "$$\n",
        "FPR \\text{ (false positive rate, 1 - specificity)} = \\dfrac{FP}{FP + TN}\n",
        "$$\n",
        "– доля неправильно предсказанных объектов отрицательного класса.\n",
        "\n",
        "Рассмотрим задачу мягкой классификации: мы предказываем вероятности принадлежности наблюдения к положительному и отрицательному классам. Тогда TPR и FPR будут зависеть от порога для вероятности, выше которого наблюдение будет отнесено к положительному классу. ROC-кривая строится в координатах $(FPR, TPR)$ и показывает комбинации TPR и FPR при всевозможных значениях порога. \n",
        "\n",
        "Для хорошего классификатора эта кривая является вогнутой, а для идеального классификатора она будет проходить через точку $(0, 1)$ (почему?).\n",
        "\n",
        "[<img src=\"https://upload.wikimedia.org/wikipedia/commons/6/6b/Roccurves.png\" alt=\"drawing\" width=\"350\"/>](https://ru.wikipedia.org/wiki/ROC-кривая)\n",
        "\n",
        "\n",
        "\n",
        "**Задание 1.** Постройте ROC-кривую для следующей выборки."
      ]
    },
    {
      "cell_type": "code",
      "execution_count": null,
      "id": "convertible-leader",
      "metadata": {
        "id": "convertible-leader"
      },
      "outputs": [],
      "source": [
        "# True labels\n",
        "y = [-1, 1, 1, -1, 1, 1]\n",
        "# Predicted labels\n",
        "p = [0.5, 0.1, 0.2, 0.9, 0.7, 0.1]"
      ]
    },
    {
      "cell_type": "markdown",
      "id": "worst-machinery",
      "metadata": {
        "id": "worst-machinery"
      },
      "source": [
        "**Решение:**\n",
        "1. Упорядочим наблюдения по **убыванию** ответов алгоритма."
      ]
    },
    {
      "cell_type": "code",
      "execution_count": null,
      "id": "desirable-bleeding",
      "metadata": {
        "id": "desirable-bleeding"
      },
      "outputs": [],
      "source": [
        "y = [-1, 1, -1, 1, 1, 1]\n",
        "p = [0.9, 0.7, 0.5, 0.2, 0.1, 0.1]"
      ]
    },
    {
      "cell_type": "markdown",
      "id": "virtual-crack",
      "metadata": {
        "id": "virtual-crack"
      },
      "source": [
        "2. Разобьём единичный квадрат на $(m, n)$ частей, где $m$ – число 1 в $y$, $n$ – число нулей. Стартуем из точки $(0, 0)$. Если значение $y$ равно 1, делаем шаг вверх, а если -1 – вправо. Понятно, что конечная точка нашего маршрута – точка $(1, 1)$.\n",
        "\n",
        "**Важный момент:** если у нескольких объектов значения предсказаний равны, а $y$ – различны, то мы должны сделать ход \"по диагонали\". \n",
        "\n",
        "Если построить кривую по этому алгоритму, то получим:"
      ]
    },
    {
      "cell_type": "code",
      "execution_count": null,
      "id": "substantial-louis",
      "metadata": {
        "id": "substantial-louis",
        "outputId": "08ccf744-616c-4215-e2e9-b502115e8ada"
      },
      "outputs": [
        {
          "data": {
            "text/plain": [
              "<matplotlib.legend.Legend at 0x7fcbd2c6baf0>"
            ]
          },
          "execution_count": 65,
          "metadata": {},
          "output_type": "execute_result"
        },
        {
          "data": {
            "image/png": "[encoded data removed]",
            "text/plain": [
              "<Figure size 576x576 with 1 Axes>"
            ]
          },
          "metadata": {
            "needs_background": "light"
          },
          "output_type": "display_data"
        }
      ],
      "source": [
        "from sklearn.metrics import roc_curve, auc\n",
        "\n",
        "fpr, tpr, _ = roc_curve(y, p)\n",
        "\n",
        "plt.figure(figsize = (8, 8))\n",
        "plt.plot(fpr, tpr, label = 'ROC')\n",
        "plt.axvline(0.5, linestyle = 'dotted', c = 'red')\n",
        "plt.axhline(0.25, linestyle = 'dotted', c = 'red')\n",
        "plt.axhline(0.5, linestyle = 'dotted', c = 'red')\n",
        "plt.axhline(0.75, linestyle = 'dotted', c = 'red')\n",
        "plt.axhline(1.0, linestyle = 'dotted', c = 'red')\n",
        "plt.title('Красные линии показывают разбиение единичного квадрата на m и n частей')\n",
        "plt.legend()"
      ]
    },
    {
      "cell_type": "markdown",
      "id": "manufactured-lyric",
      "metadata": {
        "id": "manufactured-lyric"
      },
      "source": [
        "3. Полученная кривая и является ROC-кривой. \n",
        "\n",
        "**(Почему этот алгоритм имеет смысл?)**"
      ]
    },
    {
      "cell_type": "markdown",
      "id": "arctic-scott",
      "metadata": {
        "id": "arctic-scott"
      },
      "source": [
        "**Пример с диагональным шагом.**"
      ]
    },
    {
      "cell_type": "code",
      "execution_count": null,
      "id": "wireless-worship",
      "metadata": {
        "id": "wireless-worship"
      },
      "outputs": [],
      "source": [
        "p = [0.5, 0.1, 0.2, 0.6, 0.2, 0.3, 0.0]\n",
        "y = [-1,  -1,   -1, 1,    1,   1,   -1]"
      ]
    },
    {
      "cell_type": "code",
      "execution_count": null,
      "id": "bizarre-farming",
      "metadata": {
        "id": "bizarre-farming"
      },
      "outputs": [],
      "source": [
        "fpr, tpr, _ = roc_curve(y, p)"
      ]
    },
    {
      "cell_type": "code",
      "execution_count": null,
      "id": "likely-facial",
      "metadata": {
        "id": "likely-facial",
        "outputId": "b07f2527-3754-4213-9d51-4b226bdf1a0d"
      },
      "outputs": [
        {
          "data": {
            "text/plain": [
              "<matplotlib.legend.Legend at 0x7fcbf12c2f40>"
            ]
          },
          "execution_count": 68,
          "metadata": {},
          "output_type": "execute_result"
        },
        {
          "data": {
            "image/png": "[encoded data removed]",
            "text/plain": [
              "<Figure size 576x576 with 1 Axes>"
            ]
          },
          "metadata": {
            "needs_background": "light"
          },
          "output_type": "display_data"
        }
      ],
      "source": [
        "plt.figure(figsize = (8, 8))\n",
        "plt.plot(fpr, tpr, label = 'ROC')\n",
        "plt.axvline(0.25, linestyle = 'dotted', c = 'red')\n",
        "plt.axvline(0.5, linestyle = 'dotted', c = 'red')\n",
        "plt.axvline(0.75, linestyle = 'dotted', c = 'red')\n",
        "plt.axvline(1.0, linestyle = 'dotted', c = 'red')\n",
        "plt.axhline(0.33, linestyle = 'dotted', c = 'red')\n",
        "plt.axhline(0.66, linestyle = 'dotted', c = 'red')\n",
        "plt.axhline(1.0, linestyle = 'dotted', c = 'red')\n",
        "plt.title('Красные линии показывают разбиение единичного квадрата на m и n частей')\n",
        "plt.legend()"
      ]
    },
    {
      "cell_type": "markdown",
      "id": "present-hurricane",
      "metadata": {
        "id": "present-hurricane"
      },
      "source": [
        "**Задание 2.** ROC AUC – площадь под ROC-кривой – равна доле пар наблюдений $(y = 1, y = -1)$, которые алгоритм верно упорядочил. Таким образом, чем больше ROC AUC, тем качественнее отработал классификатор. Вычислите ROC AUC для построенной ROC-кривой из первого примера. "
      ]
    },
    {
      "cell_type": "markdown",
      "id": "prescription-indiana",
      "metadata": {
        "id": "prescription-indiana"
      },
      "source": [
        "**Решение:**"
      ]
    },
    {
      "cell_type": "code",
      "execution_count": null,
      "id": "complicated-istanbul",
      "metadata": {
        "id": "complicated-istanbul",
        "outputId": "82df2b6c-86c0-47b7-aa67-ce9f947782dc"
      },
      "outputs": [
        {
          "data": {
            "text/plain": [
              "0.125"
            ]
          },
          "execution_count": 52,
          "metadata": {},
          "output_type": "execute_result"
        }
      ],
      "source": [
        "0.25 * 0.5"
      ]
    },
    {
      "cell_type": "markdown",
      "id": "colored-hebrew",
      "metadata": {
        "id": "colored-hebrew"
      },
      "source": [
        "**Задание 3.** Как выглядит ROC-кривая для случайного классификатора? \n",
        "\n",
        "\n",
        "**Задание 4.** Как по ROC-кривой выбрать порог для бинаризации?"
      ]
    },
    {
      "cell_type": "markdown",
      "id": "expensive-spyware",
      "metadata": {
        "id": "expensive-spyware"
      },
      "source": [
        "В `sklearn` реализовано вычисление значений ROC-кривой и площади под ней. "
      ]
    },
    {
      "cell_type": "code",
      "execution_count": null,
      "id": "corresponding-target",
      "metadata": {
        "id": "corresponding-target"
      },
      "outputs": [],
      "source": [
        "from sklearn.metrics import roc_curve, auc"
      ]
    },
    {
      "cell_type": "markdown",
      "id": "premier-merchandise",
      "metadata": {
        "id": "premier-merchandise"
      },
      "source": [
        "**Важно:** в `roc_curve` передаются предсказанные вероятности!"
      ]
    },
    {
      "cell_type": "markdown",
      "id": "searching-crystal",
      "metadata": {
        "id": "searching-crystal"
      },
      "source": [
        "**Задание 5.** Постройте ROC-кривую и рассчитайте площадь под ней для логистической регрессии на данных о вине. О чём говорит такая форма кривой?"
      ]
    },
    {
      "cell_type": "code",
      "execution_count": null,
      "id": "driving-doubt",
      "metadata": {
        "id": "driving-doubt"
      },
      "outputs": [],
      "source": [
        "lr = LogisticRegression()\n",
        "lr.fit(X_train, y_train)\n",
        "\n",
        "# ..."
      ]
    },
    {
      "cell_type": "markdown",
      "id": "narrow-martial",
      "metadata": {
        "id": "narrow-martial"
      },
      "source": [
        "### Бонус для самых смелых: вывод логистической регрессии через правдоподобие\n",
        "\n",
        "Перекодируем $y$ так, что её возможные значения – это 0 и 1. Теперь $y$ является случайной величиной из распределения Бернулли. Тогда сигмоида задаёт условную вероятность принадлежности $y$ к положительному классу:\n",
        "\n",
        "$$\n",
        "P(y_i = 1 | x_i, w) = \\sigma(x_i, w).\n",
        "$$\n",
        "\n",
        "Будем искать оценку коэффициентов $w$ при помощи метода максимального правдоподобия.\n",
        "\n",
        "$$\n",
        "\\mathcal{L} = \\sigma(x_i, w)^{\\sum_i y_i}(1 - \\sigma(x_i, w))^{\\sum_i 1 - y_i}\n",
        "$$\n",
        "\n",
        "Логарифмируем:\n",
        "\n",
        "$$\n",
        "\\mathcal{l} = \\sum_i y_i \\log\\sigma(x_i, w) + (1 - y_i)(1 - \\log\\sigma(x_i, w))\n",
        "$$\n",
        "\n",
        "Если теперь взять среднее, то мы получим log-loss, взятый со знаком минус. Таким образом, минимизация функции потерь в логистической регрессии эквивалентна  максимизации правдоподобия в задаче нахождения оценок $w$!"
      ]
    }
  ],
  "metadata": {
    "kernelspec": {
      "display_name": "Python 3",
      "language": "python",
      "name": "python3"
    },
    "language_info": {
      "codemirror_mode": {
        "name": "ipython",
        "version": 3
      },
      "file_extension": ".py",
      "mimetype": "text/x-python",
      "name": "python",
      "nbconvert_exporter": "python",
      "pygments_lexer": "ipython3",
      "version": "3.7.6"
    },
    "colab": {
      "name": "sem06_logit_svm.ipynb",
      "provenance": [],
      "collapsed_sections": [
        "touched-resource",
        "neutral-notebook",
        "narrow-martial"
      ]
    }
  },
  "nbformat": 4,
  "nbformat_minor": 5
}